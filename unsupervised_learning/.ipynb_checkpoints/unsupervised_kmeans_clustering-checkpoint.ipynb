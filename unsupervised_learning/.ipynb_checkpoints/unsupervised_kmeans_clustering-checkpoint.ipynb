{
 "cells": [
  {
   "cell_type": "code",
   "execution_count": null,
   "metadata": {},
   "outputs": [],
   "source": [
    "import pandas as pd\n",
    "import numpy as np\n",
    "import matplotlib.pyplot as plt\n",
    "import seaborn as sns\n",
    "\n",
    "%matplotlib inline\n",
    "sns.set_style(\"ticks\")"
   ]
  },
  {
   "cell_type": "code",
   "execution_count": null,
   "metadata": {},
   "outputs": [],
   "source": [
    "df = pd.read_csv(\"Mall_Customers.csv\")"
   ]
  },
  {
   "cell_type": "code",
   "execution_count": null,
   "metadata": {},
   "outputs": [],
   "source": [
    "df.head()"
   ]
  },
  {
   "cell_type": "code",
   "execution_count": null,
   "metadata": {},
   "outputs": [],
   "source": [
    "rename_cols = {\"Annual Income (k$)\": \"Income\",\n",
    "               \"Spending Score (1-100)\": \"SpendingScore\"}\n",
    "df = df.rename(columns=rename_cols)"
   ]
  },
  {
   "cell_type": "code",
   "execution_count": null,
   "metadata": {},
   "outputs": [],
   "source": [
    "df.shape"
   ]
  },
  {
   "cell_type": "code",
   "execution_count": null,
   "metadata": {},
   "outputs": [],
   "source": [
    "df.dtypes"
   ]
  },
  {
   "cell_type": "markdown",
   "metadata": {},
   "source": [
    "# EDA"
   ]
  },
  {
   "cell_type": "code",
   "execution_count": null,
   "metadata": {},
   "outputs": [],
   "source": [
    "df[\"Gender\"].value_counts()"
   ]
  },
  {
   "cell_type": "code",
   "execution_count": null,
   "metadata": {},
   "outputs": [],
   "source": [
    "df[\"Gender\"].unique()"
   ]
  },
  {
   "cell_type": "code",
   "execution_count": null,
   "metadata": {},
   "outputs": [],
   "source": [
    "df.describe()"
   ]
  },
  {
   "cell_type": "code",
   "execution_count": null,
   "metadata": {},
   "outputs": [],
   "source": [
    "fig, ax = plt.subplots(nrows=1,ncols=3,figsize=(18,6))\n",
    "\n",
    "sns.distplot(df[\"Age\"],ax=ax[0])\n",
    "ax[0].set_title(\"Age Distribution\")\n",
    "\n",
    "sns.distplot(df[\"Income\"], ax=ax[1])\n",
    "ax[1].set_title(\"Income Distribution\")\n",
    "\n",
    "sns.distplot(df[\"SpendingScore\"], ax=ax[2])\n",
    "ax[2].set_title(\"Spending Score Distribution\")\n",
    "plt.show()"
   ]
  },
  {
   "cell_type": "code",
   "execution_count": null,
   "metadata": {},
   "outputs": [],
   "source": [
    "df[\"Age\"].hist()"
   ]
  },
  {
   "cell_type": "code",
   "execution_count": null,
   "metadata": {},
   "outputs": [],
   "source": [
    "plt.figure(figsize=(10,8))\n",
    "sns.scatterplot(data=df, x=\"Income\", y=\"Age\", hue=\"Gender\");"
   ]
  },
  {
   "cell_type": "code",
   "execution_count": null,
   "metadata": {},
   "outputs": [],
   "source": [
    "def scatter_plot_2d(df, x, y, hue):\n",
    "    plt.figure(figsize=(10,8))\n",
    "    sns.scatterplot(data=df, x=x, y=y, hue=hue, style=hue);"
   ]
  },
  {
   "cell_type": "code",
   "execution_count": null,
   "metadata": {},
   "outputs": [],
   "source": [
    "scatter_plot_2d(df, \"Age\", \"SpendingScore\", \"Gender\")"
   ]
  },
  {
   "cell_type": "code",
   "execution_count": null,
   "metadata": {},
   "outputs": [],
   "source": [
    "scatter_plot_2d(df, \"Income\", \"SpendingScore\", \"Gender\")"
   ]
  },
  {
   "cell_type": "markdown",
   "metadata": {},
   "source": [
    "# K-Means Clustering"
   ]
  },
  {
   "cell_type": "code",
   "execution_count": null,
   "metadata": {},
   "outputs": [],
   "source": [
    "from sklearn.cluster import KMeans"
   ]
  },
  {
   "cell_type": "code",
   "execution_count": null,
   "metadata": {},
   "outputs": [],
   "source": [
    "X = df[[\"Age\", \"SpendingScore\"]]\n",
    "# model = KMeans(n_clusters=2, init='k-means++')\n",
    "model = KMeans(n_clusters=2, init='random')\n",
    "clusters = model.fit(X)"
   ]
  },
  {
   "cell_type": "code",
   "execution_count": null,
   "metadata": {},
   "outputs": [],
   "source": [
    "X.head()"
   ]
  },
  {
   "cell_type": "code",
   "execution_count": null,
   "metadata": {},
   "outputs": [],
   "source": [
    "cluster_numbers = clusters.predict(X)\n",
    "cluster_numbers"
   ]
  },
  {
   "cell_type": "code",
   "execution_count": null,
   "metadata": {},
   "outputs": [],
   "source": [
    "df['new'] = cluster_numbers\n",
    "df['new'].value_counts()"
   ]
  },
  {
   "cell_type": "code",
   "execution_count": null,
   "metadata": {},
   "outputs": [],
   "source": [
    "df[df['new']==1].head()"
   ]
  },
  {
   "cell_type": "code",
   "execution_count": null,
   "metadata": {},
   "outputs": [],
   "source": [
    "def scatter_plot_2d(df, x, y, hue):\n",
    "    plt.figure(figsize=(10,8))\n",
    "    sns.scatterplot(data=df, x=x, y=y, hue=hue, style=hue);"
   ]
  },
  {
   "cell_type": "code",
   "execution_count": null,
   "metadata": {},
   "outputs": [],
   "source": [
    "scatter_plot_2d(df, \"Age\", \"SpendingScore\", cluster_numbers)"
   ]
  },
  {
   "cell_type": "code",
   "execution_count": null,
   "metadata": {},
   "outputs": [],
   "source": [
    "scatter_plot_2d(df, \"Income\", \"Age\", cluster_numbers)"
   ]
  },
  {
   "cell_type": "code",
   "execution_count": null,
   "metadata": {},
   "outputs": [],
   "source": [
    "scatter_plot_2d(df, \"Income\", \"SpendingScore\", cluster_numbers)"
   ]
  },
  {
   "cell_type": "code",
   "execution_count": null,
   "metadata": {},
   "outputs": [],
   "source": [
    "sns.scatterplot(data=df, x='Age', y='SpendingScore', hue=cluster_numbers, style='Gender')\n",
    "plt.show()"
   ]
  },
  {
   "cell_type": "markdown",
   "metadata": {},
   "source": [
    "## Determining optimal number of clusters"
   ]
  },
  {
   "cell_type": "markdown",
   "metadata": {},
   "source": [
    "Using elbow plot"
   ]
  },
  {
   "cell_type": "code",
   "execution_count": null,
   "metadata": {},
   "outputs": [],
   "source": [
    "X1 = df[[\"Age\", \"SpendingScore\"]]\n",
    "clusters1 = KMeans(n_clusters=2, n_init=10, init=\"random\").fit(X1)"
   ]
  },
  {
   "cell_type": "code",
   "execution_count": null,
   "metadata": {},
   "outputs": [],
   "source": [
    "clusters1.inertia_"
   ]
  },
  {
   "cell_type": "code",
   "execution_count": null,
   "metadata": {},
   "outputs": [],
   "source": [
    "results = []\n",
    "for i in range(1,10):\n",
    "    X_n = df[[\"Age\", \"SpendingScore\"]]\n",
    "    clusters_n = KMeans(n_clusters=i, n_init=10, init=\"random\").fit(X_n)\n",
    "    results.append({\"n\": i, \"inertia\": clusters_n.inertia_})\n",
    "elbow_plot = pd.DataFrame(results)"
   ]
  },
  {
   "cell_type": "code",
   "execution_count": null,
   "metadata": {},
   "outputs": [],
   "source": [
    "elbow_plot"
   ]
  },
  {
   "cell_type": "code",
   "execution_count": null,
   "metadata": {},
   "outputs": [],
   "source": [
    "results"
   ]
  },
  {
   "cell_type": "code",
   "execution_count": null,
   "metadata": {},
   "outputs": [],
   "source": [
    "plt.figure(figsize=(12,8))\n",
    "sns.lineplot(data=elbow_plot, x=\"n\", y=\"inertia\")\n",
    "plt.title(\"Optimal Number of Clusters\")"
   ]
  },
  {
   "cell_type": "code",
   "execution_count": null,
   "metadata": {},
   "outputs": [],
   "source": [
    "def plot_elbow(df, dims):\n",
    "    results = []\n",
    "    for i in range(1,10):\n",
    "        X_n = df[dims]\n",
    "        clusters_n = KMeans(n_clusters=i, n_init=10, init=\"random\").fit(X_n)\n",
    "        results.append({\"n\": i+1, \"inertia\": clusters_n.inertia_})\n",
    "    elbow_plot = pd.DataFrame(results)\n",
    "    \n",
    "    plt.figure(figsize=(12,8))\n",
    "    sns.lineplot(data=elbow_plot, x=\"n\", y=\"inertia\")\n",
    "    plt.title(\"Optimal Number of Clusters\")"
   ]
  },
  {
   "cell_type": "code",
   "execution_count": null,
   "metadata": {},
   "outputs": [],
   "source": [
    "plot_elbow(df, [\"Age\", \"SpendingScore\", 'Income'])"
   ]
  },
  {
   "cell_type": "code",
   "execution_count": null,
   "metadata": {},
   "outputs": [],
   "source": [
    "def cluster_2d(df, x, y, n_clusters):\n",
    "    X = df[[x, y]]\n",
    "    clusters = KMeans(n_clusters=n_clusters, n_init=10, init=\"random\").fit(X)\n",
    "    scatter_plot_2d(df, x, y, clusters.predict(X))"
   ]
  },
  {
   "cell_type": "code",
   "execution_count": null,
   "metadata": {},
   "outputs": [],
   "source": [
    "cluster_2d(df, \"Age\", \"SpendingScore\", 4)"
   ]
  },
  {
   "cell_type": "code",
   "execution_count": null,
   "metadata": {},
   "outputs": [],
   "source": []
  },
  {
   "cell_type": "code",
   "execution_count": null,
   "metadata": {},
   "outputs": [],
   "source": [
    "model = KMeans(n_clusters=4, n_init=10, init=\"random\")\n",
    "clusters = model.fit(df[[\"Age\", \"SpendingScore\"]])\n",
    "cluster_numbers = clusters.predict(df[[\"Age\", \"SpendingScore\"]])\n",
    "cluster_numbers"
   ]
  },
  {
   "cell_type": "code",
   "execution_count": null,
   "metadata": {},
   "outputs": [],
   "source": [
    "X2 = df.assign(cluster=cluster_numbers)\n",
    "X2 = df.drop(columns = 'CustomerID', axis=1)"
   ]
  },
  {
   "cell_type": "code",
   "execution_count": null,
   "metadata": {},
   "outputs": [],
   "source": [
    "X2.drop('Gender', axis =1,inplace=True)"
   ]
  },
  {
   "cell_type": "code",
   "execution_count": null,
   "metadata": {},
   "outputs": [],
   "source": [
    "X2.head()"
   ]
  },
  {
   "cell_type": "code",
   "execution_count": null,
   "metadata": {},
   "outputs": [],
   "source": [
    "clusters = model.fit(df[[\"Age\", \"SpendingScore\",'Income']])"
   ]
  },
  {
   "cell_type": "code",
   "execution_count": null,
   "metadata": {},
   "outputs": [],
   "source": [
    "import plotly\n",
    "import plotly.graph_objs as go"
   ]
  },
  {
   "cell_type": "code",
   "execution_count": null,
   "metadata": {},
   "outputs": [],
   "source": [
    "# scatter = go.Scatter3d(x=X2[\"Age\"],\n",
    "#                      y=X2[\"Income\"],\n",
    "#                      z=X2[\"SpendingScore\"],\n",
    "#                      mode=\"markers\",\n",
    "#                      marker={\"color\": clusters.predict(X2),\n",
    "#                              \"size\": 8,\n",
    "#                              \"line\": {\"color\": clusters.predict(X2),\n",
    "#                                       \"width\":12}});\n",
    "\n",
    "# layout = go.Layout(title=\"Clusters\",\n",
    "#                    scene={\"xaxis\": {\"title\": \"Age\"},\n",
    "#                           \"yaxis\": {\"title\": \"Income\"},\n",
    "#                           \"zaxis\": {\"title\": \"SpendingScore\"}});\n",
    "\n",
    "# fig = go.Figure(data=scatter, layout=layout);\n",
    "# plotly.offline.iplot(fig)"
   ]
  },
  {
   "cell_type": "code",
   "execution_count": null,
   "metadata": {},
   "outputs": [],
   "source": []
  }
 ],
 "metadata": {
  "kernelspec": {
   "display_name": "Python 3",
   "language": "python",
   "name": "python3"
  },
  "language_info": {
   "codemirror_mode": {
    "name": "ipython",
    "version": 3
   },
   "file_extension": ".py",
   "mimetype": "text/x-python",
   "name": "python",
   "nbconvert_exporter": "python",
   "pygments_lexer": "ipython3",
   "version": "3.7.3"
  }
 },
 "nbformat": 4,
 "nbformat_minor": 2
}
